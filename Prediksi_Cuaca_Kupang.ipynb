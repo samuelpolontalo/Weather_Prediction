{
  "nbformat": 4,
  "nbformat_minor": 0,
  "metadata": {
    "colab": {
      "provenance": [],
      "private_outputs": true
    },
    "kernelspec": {
      "name": "python3",
      "display_name": "Python 3"
    },
    "language_info": {
      "name": "python"
    },
    "accelerator": "GPU",
    "gpuClass": "standard"
  },
  "cells": [
    {
      "cell_type": "code",
      "source": [
        "# Pada code ini dilakukan pengunduhan data dari file excel yang sudah diupload di Google Drive\n",
        "!gdown --id 1DxEB7B0f0NbgA2EN6BbNghwk90sNKiLN"
      ],
      "metadata": {
        "id": "WhEZS9-pHD7n"
      },
      "execution_count": null,
      "outputs": []
    },
    {
      "cell_type": "code",
      "source": [
        "# melakukan import semua library yang dibutuhkan pada projek ini\n",
        "import pandas as pd\n",
        "import numpy as np\n",
        "import matplotlib.pyplot as plt\n",
        "import seaborn as sns\n",
        "import warnings\n",
        "warnings.filterwarnings('ignore')\n",
        "from sklearn.metrics import classification_report,accuracy_score\n",
        "from sklearn.model_selection import train_test_split, cross_val_score, StratifiedKFold\n",
        "from sklearn.tree import DecisionTreeRegressor\n",
        "import xgboost\n",
        "from xgboost import XGBRegressor\n",
        "from sklearn.ensemble import RandomForestRegressor\n",
        "from sklearn.model_selection import cross_val_score\n",
        "from sklearn.ensemble import GradientBoostingRegressor\n",
        "from sklearn.metrics import mean_absolute_error"
      ],
      "metadata": {
        "id": "Aw7-jhLrHQIz"
      },
      "execution_count": null,
      "outputs": []
    },
    {
      "cell_type": "markdown",
      "source": [
        "# Sumber Data\n",
        "![BMKG.png](data:image/png;base64,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)\n",
        "* ID WMO : 97374\n",
        "* Nama Stasiun : Sstasiun Klimatologi Nusa Tenggara Timur\n",
        "* Lintang: -10.13861\n",
        "* Bujur: 123.66722\n",
        "* Elevasi: 19"
      ],
      "metadata": {
        "id": "OvSeJ0fuKPpK"
      }
    },
    {
      "cell_type": "markdown",
      "source": [
        "## Keterangan Data:\n",
        "* 8888 : data tidak terukur\n",
        "* 9999 : Tidak ada data (tidak dilakukan pengukuran)\n",
        "* Tn : Temperatur minimum (°C)\n",
        "* Tx : Tempratur maksimum (°C)\n",
        "* Tavg : Tempratur rata-rata (°C)\n",
        "* RH_avg : Kelembapan rata-rata (%)\n",
        "* RR : Curah hujan (mm)\n",
        "* ss : Lamanya penyinaran matahari (jam)"
      ],
      "metadata": {
        "id": "AepfvdJXMEvn"
      }
    },
    {
      "cell_type": "code",
      "source": [
        "# Membaca data yang sudah didownload menggunakan library pandas kemudian menyimpan hasilnya kedalam variabel\n",
        "df = pd.read_excel('/content/laporan_iklim_harian.xlsx')"
      ],
      "metadata": {
        "id": "kdlyVMpMHUik"
      },
      "execution_count": null,
      "outputs": []
    },
    {
      "cell_type": "code",
      "source": [
        "# Mencetak data frame yang sudah disimpan di dalam variabel df\n",
        "df"
      ],
      "metadata": {
        "id": "J0Fva4aLx-Sf"
      },
      "execution_count": null,
      "outputs": []
    },
    {
      "cell_type": "code",
      "source": [
        "# Melakukan pemeriksaan secara singkat tentang data frame\n",
        "df.info()"
      ],
      "metadata": {
        "id": "8TDKEwoVHY8-"
      },
      "execution_count": null,
      "outputs": []
    },
    {
      "cell_type": "code",
      "source": [
        "df.isnull().sum()"
      ],
      "metadata": {
        "id": "mbE6z8Y_FDh9"
      },
      "execution_count": null,
      "outputs": []
    },
    {
      "cell_type": "code",
      "source": [
        "df.dropna(inplace=True)"
      ],
      "metadata": {
        "id": "zymLxBcAJCZ9"
      },
      "execution_count": null,
      "outputs": []
    },
    {
      "cell_type": "code",
      "source": [
        "df.isnull().sum()"
      ],
      "metadata": {
        "id": "6oZIRRXVG4uG"
      },
      "execution_count": null,
      "outputs": []
    },
    {
      "cell_type": "markdown",
      "source": [
        "Berdasarkan data yang diperoleh BMKG, didapat data tentang curah hujan sebanyak 91 selama 3 bulan yaitu dari 1-Jan-2022 sampai 1-Apr-2022. Berdasarkan hasil cetak data, terlihat data menggunakan kode-kode nama yang mungkin akan kita ganti dengan nama yang lebih familiar. Kemudian terlihat ada beberapa kolom yang tidak memiliki data lengkap seperti Tn (tempratur minimum) dan RR (curah hujan). Selain itu, terlihat juga pada keterangan bahwa ada data yang dicatat sebagai kode seperti 8888 sebagai data tidak terukur dan 9999 sebagai tidak ada data. Oleh karena itu, pada projek ini baris yang memiliki data tidak lengkap, nilai 9999, dan 8888 akan dibuang."
      ],
      "metadata": {
        "id": "rXFgWHsnyVnM"
      }
    },
    {
      "cell_type": "code",
      "source": [
        "#mendefinisikan nilai yang akan dibuang\n",
        "values = [8888, 9999]\n",
        "\n",
        "#membuang semua baris pada kolom RR (curah hujan) yang memiliki nilai yang sudah didefinisikan sebelumnya\n",
        "df = df[df.RR.isin(values) == False]"
      ],
      "metadata": {
        "id": "wVNcnQjGrsrO"
      },
      "execution_count": null,
      "outputs": []
    },
    {
      "cell_type": "code",
      "source": [
        "df.rename(columns = {'Tn':'Suhu_minimum'}, inplace = True)\n",
        "df.rename(columns = {'Tx':'Suhu_maksimum'}, inplace = True)\n",
        "df.rename(columns = {'Tavg':'Rerata_suhu'}, inplace = True)\n",
        "df.rename(columns = {'RH_avg':'Rerata_Kelembapan'}, inplace = True)\n",
        "df.rename(columns = {'RR':'Curah_hujan'}, inplace = True)\n",
        "df.rename(columns = {'ss':'Sinar_matahari'}, inplace = True)"
      ],
      "metadata": {
        "id": "EnLW6SRT3v0d"
      },
      "execution_count": null,
      "outputs": []
    },
    {
      "cell_type": "code",
      "source": [
        "df.head(3)"
      ],
      "metadata": {
        "id": "w0DKlcDe4Ch5"
      },
      "execution_count": null,
      "outputs": []
    },
    {
      "cell_type": "markdown",
      "source": [
        "# Eksplorasi Data"
      ],
      "metadata": {
        "id": "x2c9zTlY3KeB"
      }
    },
    {
      "cell_type": "code",
      "source": [
        "#create scatterplot with regression line and confidence interval lines\n",
        "sns.regplot(df['Rerata_suhu'], df['Curah_hujan'])"
      ],
      "metadata": {
        "id": "X6G0uwWwuG4e"
      },
      "execution_count": null,
      "outputs": []
    },
    {
      "cell_type": "code",
      "source": [
        "#create scatterplot with regression line and confidence interval lines\n",
        "sns.regplot(df['Rerata_Kelembapan'], df['Curah_hujan'])"
      ],
      "metadata": {
        "id": "LtztC2t6us4F"
      },
      "execution_count": null,
      "outputs": []
    },
    {
      "cell_type": "code",
      "source": [
        "#create scatterplot with regression line and confidence interval lines\n",
        "sns.regplot(df['Sinar_matahari'], df['Curah_hujan'])"
      ],
      "metadata": {
        "id": "1gqiejRZu8K5"
      },
      "execution_count": null,
      "outputs": []
    },
    {
      "cell_type": "code",
      "source": [
        "#create scatterplot with regression line and confidence interval lines\n",
        "sns.regplot(df['Suhu_minimum'], df['Curah_hujan'])"
      ],
      "metadata": {
        "id": "js48kNKNxGWh"
      },
      "execution_count": null,
      "outputs": []
    },
    {
      "cell_type": "code",
      "source": [
        "#create scatterplot with regression line and confidence interval lines\n",
        "sns.regplot(df['Suhu_maksimum'], df['Curah_hujan'])"
      ],
      "metadata": {
        "id": "oLwT2_a6xRxW"
      },
      "execution_count": null,
      "outputs": []
    },
    {
      "cell_type": "code",
      "source": [
        "sns.heatmap(df.corr(), cmap=\"YlGnBu\", annot=True);"
      ],
      "metadata": {
        "id": "bKQI8ZdUJss2"
      },
      "execution_count": null,
      "outputs": []
    },
    {
      "cell_type": "code",
      "source": [
        "df.drop(['Tanggal'],axis=1,inplace=True)"
      ],
      "metadata": {
        "id": "5UCtSgFjMif9"
      },
      "execution_count": null,
      "outputs": []
    },
    {
      "cell_type": "markdown",
      "source": [
        "# Membuat model"
      ],
      "metadata": {
        "id": "949ftz12LoLk"
      }
    },
    {
      "cell_type": "code",
      "source": [
        "#Define Variable\n",
        "x = df.drop(['Curah_hujan'], axis=1).values\n",
        "y = df['Curah_hujan'].values"
      ],
      "metadata": {
        "id": "7_EGy1JNKUOW"
      },
      "execution_count": null,
      "outputs": []
    },
    {
      "cell_type": "code",
      "source": [
        "#Split train & test dataset\n",
        "x_train, x_test, y_train, y_test = train_test_split(x, y, test_size=0.2, random_state=123) #Train:Test (80:2c0)"
      ],
      "metadata": {
        "id": "SE6bObhyNLdX"
      },
      "execution_count": null,
      "outputs": []
    },
    {
      "cell_type": "code",
      "source": [
        "RF = RandomForestRegressor()\n",
        "REG = DecisionTreeRegressor()\n",
        "XGB = XGBRegressor()\n",
        "GB = GradientBoostingRegressor()"
      ],
      "metadata": {
        "id": "HXAKeJggNmmO"
      },
      "execution_count": null,
      "outputs": []
    },
    {
      "cell_type": "code",
      "source": [
        "listmodel = [RF, REG, XGB, GB]\n",
        "namamodel = [\"Random Forest\", \"Decision Tree\", \"XGBoost\", \"Gradient Boost\"]"
      ],
      "metadata": {
        "id": "rcVf2k1CVNrn"
      },
      "execution_count": null,
      "outputs": []
    },
    {
      "cell_type": "code",
      "source": [
        "# Multiply by -1 since sklearn calculates *negative* MAE\n",
        "acc_model = []\n",
        "acc_std = []\n",
        "\n",
        "for model in listmodel :\n",
        "  scores = -1 * cross_val_score(model, x_train, y_train,\n",
        "                                cv=5,\n",
        "                                scoring='neg_mean_absolute_error')\n",
        "  acc_model.append(scores.mean())\n",
        "  acc_std.append(scores.std())"
      ],
      "metadata": {
        "id": "GD4X4bZAPKt0"
      },
      "execution_count": null,
      "outputs": []
    },
    {
      "cell_type": "code",
      "source": [
        "pembanding = pd.DataFrame({\n",
        "    'Nama Model' : namamodel,\n",
        "    'Rata-rata MAE' : acc_model,\n",
        "    'Standar Deviasi MAE' : acc_std\n",
        "})\n",
        "\n",
        "pembanding"
      ],
      "metadata": {
        "id": "uRrJqZhrWVpA"
      },
      "execution_count": null,
      "outputs": []
    },
    {
      "cell_type": "markdown",
      "source": [
        "Misal MAE paling rendah adalah Gradient Boost"
      ],
      "metadata": {
        "id": "Sb4cPn0SW7Rs"
      }
    },
    {
      "cell_type": "code",
      "source": [
        "GB.fit(x_train, y_train)"
      ],
      "metadata": {
        "id": "12-wqbXBW_T3"
      },
      "execution_count": null,
      "outputs": []
    },
    {
      "cell_type": "code",
      "source": [
        "GB.fit(x_train, y_train)\n",
        "preds_test = GB.predict(x_test)"
      ],
      "metadata": {
        "id": "s5cLWNLuZJcJ"
      },
      "execution_count": null,
      "outputs": []
    },
    {
      "cell_type": "code",
      "source": [
        "print(mean_absolute_error(y_test, preds_test))"
      ],
      "metadata": {
        "id": "WPliHn7CXpRO"
      },
      "execution_count": null,
      "outputs": []
    },
    {
      "cell_type": "markdown",
      "source": [
        "## Check User Input"
      ],
      "metadata": {
        "id": "xWGjfDuOaDFM"
      }
    },
    {
      "cell_type": "code",
      "source": [
        "suhu_minimum = input(\"Masukan suhu minimum = \")\n",
        "suhu_maksimum = input(\"Masukan suhu maksimum = \")\n",
        "suhu_rata2 = input(\"Masukan suhu rata-rata = \")\n",
        "kelembapan = input(\"Masukan nilai kelembapan = \")\n",
        "sinar_matahari = input(\"Masukan durasi sinar matahari =\")\n",
        "\n",
        "input_user = {'Suhu_minimum':suhu_minimum,\n",
        "        'Suhu_maksimum':suhu_maksimum,\n",
        "        'Rerata_suhu\t':suhu_rata2,\n",
        "        'Rerata_Kelembapan\t':kelembapan,\n",
        "        'Sinar_matahari': sinar_matahari\n",
        "        }\n",
        "\n",
        "check_input = pd.DataFrame(input_user, index=[0])\n",
        "template_output = \"Prediksi hujan dengan kriteria tersebut adalah\"\n",
        "prediksi_hujan = GB.predict(check_input)\n",
        "\n",
        "print(prediksi_hujan)\n",
        "if(prediksi_hujan>150):\n",
        "    print(template_output,\"Hujan ekstrem\")\n",
        "elif(prediksi_hujan>100):\n",
        "    print(template_output,\"Hujan sangat lebat\")\n",
        "elif(prediksi_hujan>50):\n",
        "    print(template_output,\"Hujan lebat\")\n",
        "elif(prediksi_hujan>20):\n",
        "    print(template_output,\"Hujan sedang\")\n",
        "elif(prediksi_hujan>0.5):\n",
        "    print(template_output,\"Hujan ringan\")\n",
        "else:\n",
        "    print(template_output,\"Berawan\")"
      ],
      "metadata": {
        "id": "YZnRzJhpaBut"
      },
      "execution_count": null,
      "outputs": []
    },
    {
      "cell_type": "markdown",
      "source": [
        "https://www.bmkg.go.id/cuaca/probabilistik-curah-hujan.bmkg\n",
        "* 0 mm/hari (abu-abu) : Berawan\n",
        "* 0.5 – 20 mm/hari (hijau) : Hujan ringan\n",
        "* 20 – 50 mm/hari (kuning) : Hujan sedang\n",
        "* 50 – 100 mm/hari (oranye): Hujan lebat\n",
        "* 100 – 150 mm/hari (merah) : Hujan sangat lebat\n",
        "* lebih dari 150 mm / hari (ungu) : Hujan ekstrem"
      ],
      "metadata": {
        "id": "vjemgkq2ejIr"
      }
    },
    {
      "cell_type": "code",
      "source": [],
      "metadata": {
        "id": "qCEfFOWFesBa"
      },
      "execution_count": null,
      "outputs": []
    }
  ]
}